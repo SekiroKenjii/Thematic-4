{
  "nbformat": 4,
  "nbformat_minor": 0,
  "metadata": {
    "accelerator": "GPU",
    "colab": {
      "name": "Lab_CNN.ipynb",
      "provenance": [],
      "collapsed_sections": [],
      "toc_visible": true,
      "include_colab_link": true
    },
    "kernelspec": {
      "display_name": "Python 3",
      "name": "python3"
    },
    "language_info": {
      "name": "python"
    }
  },
  "cells": [
    {
      "cell_type": "markdown",
      "metadata": {
        "id": "view-in-github",
        "colab_type": "text"
      },
      "source": [
        "<a href=\"https://colab.research.google.com/github/SekiroKenjii/Thematic-4/blob/main/Lab_CNN.ipynb\" target=\"_parent\"><img src=\"https://colab.research.google.com/assets/colab-badge.svg\" alt=\"Open In Colab\"/></a>"
      ]
    },
    {
      "cell_type": "code",
      "metadata": {
        "id": "RgsDUR_mssfd",
        "colab": {
          "base_uri": "https://localhost:8080/"
        },
        "outputId": "0e20b6a8-2c60-49f0-9f09-4b1c8967e397"
      },
      "source": [
        "# Kết nối với Drive\n",
        "from google.colab import drive\n",
        "drive.mount('/content/drive')"
      ],
      "execution_count": null,
      "outputs": [
        {
          "output_type": "stream",
          "text": [
            "Drive already mounted at /content/drive; to attempt to forcibly remount, call drive.mount(\"/content/drive\", force_remount=True).\n"
          ],
          "name": "stdout"
        }
      ]
    },
    {
      "cell_type": "code",
      "metadata": {
        "id": "H7TDlFqu0xVJ"
      },
      "source": [
        "#!apt install unzip\n",
        "#!cd \"/content/drive/MyDrive/Colab Notebooks/\"\n",
        "#!unzip -u \"/content/drive/MyDrive/Colab Notebooks/dataset.zip\" -d \"/content/drive/MyDrive/Colab Notebooks/dataset\"\n",
        "#!unzip -u \"/content/drive/MyDrive/Colab Notebooks/LabDL/Benign-20210323T020736Z-001.zip\" -d \"/content/drive/MyDrive/Colab Notebooks/LabDL/dataset\"\n",
        "#!unzip -u \"/content/drive/MyDrive/Colab Notebooks/LabDL/Benign-20210323T020736Z-002.zip\" -d \"/content/drive/MyDrive/Colab Notebooks/LabDL/dataset\"\n"
      ],
      "execution_count": null,
      "outputs": []
    },
    {
      "cell_type": "code",
      "metadata": {
        "id": "nsbwyqgL61_P",
        "colab": {
          "base_uri": "https://localhost:8080/"
        },
        "outputId": "a0933163-5f44-4cfc-9b33-7bec5ee829ed"
      },
      "source": [
        "from google.colab import drive\n",
        "drive.mount('/content/drive')"
      ],
      "execution_count": null,
      "outputs": [
        {
          "output_type": "stream",
          "text": [
            "Drive already mounted at /content/drive; to attempt to forcibly remount, call drive.mount(\"/content/drive\", force_remount=True).\n"
          ],
          "name": "stdout"
        }
      ]
    },
    {
      "cell_type": "code",
      "metadata": {
        "id": "-Xv3pzOatAoa"
      },
      "source": [
        "import numpy as np # Xử lý một số toán học\n",
        "import matplotlib.pyplot as plt # Thư viện đồ thị trực quan, hình ảnh,...\n",
        "from pathlib import Path\n",
        "import os\n",
        "import cv2 \n",
        "import random\n",
        "import pickle\n",
        "import tensorflow as tf\n",
        "from tensorflow import keras\n",
        "from tensorflow.keras.models import Sequential\n",
        "from tensorflow.keras.layers import Dense, Dropout, Activation, Flatten, Conv2D, MaxPool2D\n",
        "from tensorflow.keras.utils import to_categorical\n",
        "from sklearn.model_selection import train_test_split"
      ],
      "execution_count": null,
      "outputs": []
    },
    {
      "cell_type": "code",
      "metadata": {
        "id": "KHyig_7ntS05"
      },
      "source": [
        "data_dir = \"/content/drive/MyDrive/Colab Notebooks/LabDL/dataset\"\n",
        "data_dir = Path(data_dir)  \n",
        "categories = os.listdir(data_dir) "
      ],
      "execution_count": null,
      "outputs": []
    },
    {
      "cell_type": "code",
      "metadata": {
        "colab": {
          "base_uri": "https://localhost:8080/"
        },
        "id": "JRS9x2kr3NsU",
        "outputId": "64925a8a-f16c-415a-a4a1-f05cb57784d1"
      },
      "source": [
        "count_image = len(list(data_dir.glob(\"*/*.tif\")))\n",
        "print(count_image)\n",
        "print(len(categories))"
      ],
      "execution_count": null,
      "outputs": [
        {
          "output_type": "stream",
          "text": [
            "1194\n",
            "4\n"
          ],
          "name": "stdout"
        }
      ]
    },
    {
      "cell_type": "code",
      "metadata": {
        "colab": {
          "base_uri": "https://localhost:8080/"
        },
        "id": "Qq7jX18xkHdG",
        "outputId": "96a2d38f-67a1-4b26-ea65-c6177df808f8"
      },
      "source": [
        "#categories.index('InSitu')\n",
        "categories.index('Normal')"
      ],
      "execution_count": null,
      "outputs": [
        {
          "output_type": "execute_result",
          "data": {
            "text/plain": [
              "1"
            ]
          },
          "metadata": {
            "tags": []
          },
          "execution_count": 5
        }
      ]
    },
    {
      "cell_type": "markdown",
      "metadata": {
        "id": "wUDP4N_htN1i"
      },
      "source": [
        "# **Quá trình tạo tập dữ liệu**"
      ]
    },
    {
      "cell_type": "code",
      "metadata": {
        "id": "XyJMnKNn2TN2"
      },
      "source": [
        "training_data = []  # Toàn bộ dữ liệu chúng ta có thể sử dụng, phân biệt giữa training data, x_train, y_train, x_test, y_test, x_val và y_val\n",
        "# training data = [x_train, y_train] + [x_test, y_test] + [x_val, y_val]\n",
        "#500\n",
        "IMG_SIZE = 250  # Trong hướng dẫn này, lựa chọn đưa toàn bộ ảnh về cùng kích thước 200 x 200, (bộ dữ liệu với nhiều loại kích thước ảnh)\n",
        "def create_training_data():\n",
        "  for category in categories: # Duyệt qua từng folder label\n",
        "    path = os.path.join(data_dir, category) # tạo một path tạm đến folder label đó \n",
        "    label_number = categories.index(category) # label thứ mấy trong mảng categories chứa các label\n",
        "    for img in os.listdir(path):  # duyệt qua toàn bộ ảnh trong path\n",
        "      try:\n",
        "        img_array_gray = cv2.imread(os.path.join(path, img), cv2.IMREAD_ANYCOLOR) # Đọc mảng giá trị của ảnh, ở đây không chuyển ảnh thành gray\n",
        "        new_img_array = cv2.resize(img_array_gray, (IMG_SIZE, IMG_SIZE), interpolation = cv2.INTER_AREA)  # Chuyển ảnh về cùng kích thước\n",
        "        training_data.append([new_img_array, label_number]) # Lưu ảnh cùng label tương ứng vào training_data\n",
        "      except Exception as e:\n",
        "        pass\n",
        "\n",
        "create_training_data()\n"
      ],
      "execution_count": null,
      "outputs": []
    },
    {
      "cell_type": "code",
      "metadata": {
        "colab": {
          "base_uri": "https://localhost:8080/"
        },
        "id": "1xxmqgM9_l86",
        "outputId": "b8781f8c-aa4c-4c58-f54c-0bc928fddb0a"
      },
      "source": [
        "print(len(training_data))"
      ],
      "execution_count": null,
      "outputs": [
        {
          "output_type": "stream",
          "text": [
            "1191\n"
          ],
          "name": "stdout"
        }
      ]
    },
    {
      "cell_type": "code",
      "metadata": {
        "id": "XIqcCYe_HLbP"
      },
      "source": [
        "random.shuffle(training_data) # xáo trộn dữ liệu"
      ],
      "execution_count": null,
      "outputs": []
    },
    {
      "cell_type": "code",
      "metadata": {
        "id": "AS9s4k2AHbWj"
      },
      "source": [
        "# Tạo 2 mảng để lưu samples và labels theo cùng index tương ứng\n",
        "X = []  # samples\n",
        "y = []  # labels"
      ],
      "execution_count": null,
      "outputs": []
    },
    {
      "cell_type": "code",
      "metadata": {
        "id": "A6IVD2SFHyHf"
      },
      "source": [
        "for feature, label in training_data:  # Mỗi phần tử trong training_data có dạng [feature, label] trong đó feature = new_img_array và label = label_number\n",
        "  X.append(feature)\n",
        "  y.append(label)\n",
        "\n",
        "# X bây giờ chứa toàn bộ features\n",
        "# Chuyển X về dạng ma trận\n",
        "# -1 ở đây tương đương với số lượng features, dùng -1 numpy tự hiểu là ứng với số lượng của feature hiện có trong X\n",
        "# Vì không chuyển thành ảnh trắng đen nên ảnh có 3 kênh màu, tham số cuối cùng trong reshape\n",
        "X = np.array(X).reshape(-1, IMG_SIZE, IMG_SIZE, 3)"
      ],
      "execution_count": null,
      "outputs": []
    },
    {
      "cell_type": "markdown",
      "metadata": {
        "id": "l2JjQEwyvMik"
      },
      "source": [
        "Tách training_data thành tập train và test.\n",
        "*   X_train, y_train\n",
        "*   X_test, y_test\n",
        "\n",
        "---\n",
        "Tập test sẽ có kích thước bằng 20% data set\n",
        "\n",
        "\n"
      ]
    },
    {
      "cell_type": "code",
      "metadata": {
        "id": "HJiSoX7avMEM"
      },
      "source": [
        "X_train, X_test, y_train, y_test = train_test_split(X, y, test_size=0.2, random_state=42)\n"
      ],
      "execution_count": null,
      "outputs": []
    },
    {
      "cell_type": "code",
      "metadata": {
        "colab": {
          "base_uri": "https://localhost:8080/"
        },
        "id": "IvUxRIigwKoc",
        "outputId": "e72d689d-775f-4c39-a97f-f9f717f7cc78"
      },
      "source": [
        "print(len(X_train))"
      ],
      "execution_count": null,
      "outputs": [
        {
          "output_type": "stream",
          "text": [
            "952\n"
          ],
          "name": "stdout"
        }
      ]
    },
    {
      "cell_type": "code",
      "metadata": {
        "colab": {
          "base_uri": "https://localhost:8080/"
        },
        "id": "afYxHq3WwKzp",
        "outputId": "4bc49555-6f36-423a-ac23-0a0495b8932f"
      },
      "source": [
        "print(len(X_test))"
      ],
      "execution_count": null,
      "outputs": [
        {
          "output_type": "stream",
          "text": [
            "239\n"
          ],
          "name": "stdout"
        }
      ]
    },
    {
      "cell_type": "code",
      "metadata": {
        "id": "kbwLhc0dj0TR"
      },
      "source": [
        "# Bước này dùng để lưu X và y vào một file theo định dạng có cấu trúc để khỏi phải chạy lại hàm tạo X, y phía trên - khá tốn thời gian cho việc tạo lại từ đầu\n",
        "pickle_out = open(\"/content/drive/MyDrive/Colab Notebooks/LabDL/X.pickle\", \"wb\")\n",
        "pickle.dump(X, pickle_out)\n",
        "pickle_out.close()\n",
        "\n",
        "pickle_out = open(\"/content/drive/MyDrive/Colab Notebooks/LabDL/y.pickle\", \"wb\")\n",
        "pickle.dump(y, pickle_out)\n",
        "pickle_out.close()\n",
        "\n",
        "#train\n",
        "pickle_out = open(\"/content/drive/MyDrive/Colab Notebooks/LabDL/X_train.pickle\", \"wb\")\n",
        "pickle.dump(X_train, pickle_out)\n",
        "pickle_out.close()\n",
        "\n",
        "pickle_out = open(\"/content/drive/MyDrive/Colab Notebooks/LabDL/y_train.pickle\", \"wb\")\n",
        "pickle.dump(y_train, pickle_out)\n",
        "pickle_out.close()\n",
        "\n",
        "#test\n",
        "pickle_out = open(\"/content/drive/MyDrive/Colab Notebooks/LabDL/X_test.pickle\", \"wb\")\n",
        "pickle.dump(X_test, pickle_out)\n",
        "pickle_out.close()\n",
        "\n",
        "pickle_out = open(\"/content/drive/MyDrive/Colab Notebooks/LabDL/y_test.pickle\", \"wb\")\n",
        "pickle.dump(y_test, pickle_out)\n",
        "pickle_out.close()"
      ],
      "execution_count": null,
      "outputs": []
    },
    {
      "cell_type": "code",
      "metadata": {
        "id": "sVkfv55rka05"
      },
      "source": [
        "# Đọc lại file cấu trúc đã lưu\n",
        "#pickle_in = open(\"/content/drive/MyDrive/Colab Notebooks/LabDL/X.pickle\", \"rb\")\n",
        "#X = pickle.load(pickle_in)\n",
        "#pickle_in.close()\n",
        "\n",
        "#pickle_in = open(\"/content/drive/MyDrive/Colab Notebooks/LabDL/y.pickle\", \"rb\")\n",
        "#y = pickle.load(pickle_in)\n",
        "#pickle_in.close()\n",
        "\n",
        "#train\n",
        "pickle_in = open(\"/content/drive/MyDrive/Colab Notebooks/LabDL/X_train.pickle\", \"rb\")\n",
        "X_train = pickle.load(pickle_in)\n",
        "pickle_in.close()\n",
        "\n",
        "pickle_in = open(\"/content/drive/MyDrive/Colab Notebooks/LabDL/y_train.pickle\", \"rb\")\n",
        "y_train = pickle.load(pickle_in)\n",
        "pickle_in.close()\n",
        "\n",
        "#test\n",
        "pickle_in = open(\"/content/drive/MyDrive/Colab Notebooks/LabDL/X_test.pickle\", \"rb\")\n",
        "X_test = pickle.load(pickle_in)\n",
        "pickle_in.close()\n",
        "\n",
        "pickle_in = open(\"/content/drive/MyDrive/Colab Notebooks/LabDL/y_test.pickle\", \"rb\")\n",
        "y_test = pickle.load(pickle_in)\n",
        "pickle_in.close()"
      ],
      "execution_count": null,
      "outputs": []
    },
    {
      "cell_type": "code",
      "metadata": {
        "id": "Mv67AuWyktzy"
      },
      "source": [
        "#X = X/255  # Tinh giảm giá trị trong điểm ảnh (vì giá trị màu chạy từ 0 --> 255 nên mới có con số 255 ở đây)\n",
        "#y = to_categorical(y) # one hot\n",
        "# ví dụ y_number = 14 thì y = [0. 0. 0. 0. 0. 0. 0. 0. 0. 0. 0. 0. 0. 0. 1. 0. 0.]\n",
        "\n",
        "X_train = X_train/255\n",
        "y_train = to_categorical(y_train)\n",
        "\n",
        "X_test = X_test/255\n",
        "y_test = to_categorical(y_test)"
      ],
      "execution_count": null,
      "outputs": []
    },
    {
      "cell_type": "markdown",
      "metadata": {
        "id": "b37vfofVtYLR"
      },
      "source": [
        "# **Xây dựng model**"
      ]
    },
    {
      "cell_type": "code",
      "metadata": {
        "id": "AJoRlb6zPW1q"
      },
      "source": [
        "# load lại model cũ đã lưu\n",
        "#model = tf.keras.models.load_model('/content/drive/MyDrive/Colab Notebooks/LabDL/my_model/my_model.h5')\n",
        "#model.summary()"
      ],
      "execution_count": null,
      "outputs": []
    },
    {
      "cell_type": "code",
      "metadata": {
        "id": "XyUVDKzskvat",
        "colab": {
          "base_uri": "https://localhost:8080/"
        },
        "outputId": "c5a7010d-5d28-404d-efde-7fb22a76cc06"
      },
      "source": [
        "model = Sequential() #  Khởi tạo một một mô hình neural\n",
        "\n",
        "# Bắt đầu của mạng thêm một Convolutional layer với các tham số trên\n",
        "# https://www.tensorflow.org/api_docs/python/tf/keras/layers/Conv2D\n",
        "# Lớp ban đầu này phải truyền cho mạng biết input_shape ban đầu là bao nhiêu chính là (weight x heigh x depth) của ảnh\n",
        "# padding chỉ có thể chọn 1 trong 2 giá trị `same` hoặc `valid`\n",
        "model.add(Conv2D(filters=64, kernel_size=(3,3), input_shape=X.shape[1:], padding=\"same\"))\n",
        "\n",
        "# Thêm cho layer trên một hàm kích hoạt\n",
        "model.add(Activation(\"relu\"))\n",
        "# Tinh giảm số neural của output nếu cần thiết\n",
        "model.add(MaxPool2D(pool_size=(2, 2), strides=2))\n",
        "\n",
        "model.add(Conv2D(filters=64, kernel_size=(3,3)))\n",
        "model.add(Activation(\"relu\"))\n",
        "model.add(MaxPool2D(pool_size=(2, 2), strides=2))\n",
        "\n",
        "model.add(Conv2D(filters=64, kernel_size=(3,3)))\n",
        "model.add(Activation(\"relu\"))\n",
        "model.add(MaxPool2D(pool_size=(2, 2), strides=2))\n",
        "\n",
        "# Làm phẳng neuron, bắt đầu fully connected\n",
        "model.add(Flatten())\n",
        "\n",
        "# Tạo một layer\n",
        "model.add(Dense(128))\n",
        "# Thêm hàm kích hoạt\n",
        "model.add(Activation(\"relu\"))\n",
        "#model.add(Dropout(0.5))\n",
        "\n",
        "model.add(Dense(128))\n",
        "model.add(Activation(\"relu\"))\n",
        "\n",
        "model.add(Dense(64))\n",
        "model.add(Activation(\"relu\"))\n",
        "\n",
        "model.add(Dense(64))\n",
        "model.add(Activation(\"relu\"))\n",
        "\n",
        "# output\n",
        "model.add(Dense(4))\n",
        "model.add(Activation(\"softmax\"))\n",
        "\n",
        "# Cung cấp cho mô hình hàm loss function lựa chọn, thuật toán tối ưu\n",
        "model.compile('adam', 'binary_crossentropy', metrics='accuracy')\n",
        "model.summary() # xem chi tiết mô hình xây dựng của chính mình\n",
        "\n",
        "# Cuối cùng đào tạo nó\n",
        "history = model.fit(X_train, y_train, batch_size=128, epochs=200)\n",
        "\n",
        "!mkdir -p saved_model\n",
        "model.save('/content/drive/MyDrive/Colab Notebooks/LabDL/my_model/my_model.h5') "
      ],
      "execution_count": null,
      "outputs": [
        {
          "output_type": "stream",
          "text": [
            "Model: \"sequential_1\"\n",
            "_________________________________________________________________\n",
            "Layer (type)                 Output Shape              Param #   \n",
            "=================================================================\n",
            "conv2d (Conv2D)              (None, 250, 250, 64)      1792      \n",
            "_________________________________________________________________\n",
            "activation (Activation)      (None, 250, 250, 64)      0         \n",
            "_________________________________________________________________\n",
            "max_pooling2d (MaxPooling2D) (None, 125, 125, 64)      0         \n",
            "_________________________________________________________________\n",
            "conv2d_1 (Conv2D)            (None, 123, 123, 64)      36928     \n",
            "_________________________________________________________________\n",
            "activation_1 (Activation)    (None, 123, 123, 64)      0         \n",
            "_________________________________________________________________\n",
            "max_pooling2d_1 (MaxPooling2 (None, 61, 61, 64)        0         \n",
            "_________________________________________________________________\n",
            "conv2d_2 (Conv2D)            (None, 59, 59, 64)        36928     \n",
            "_________________________________________________________________\n",
            "activation_2 (Activation)    (None, 59, 59, 64)        0         \n",
            "_________________________________________________________________\n",
            "max_pooling2d_2 (MaxPooling2 (None, 29, 29, 64)        0         \n",
            "_________________________________________________________________\n",
            "flatten (Flatten)            (None, 53824)             0         \n",
            "_________________________________________________________________\n",
            "dense (Dense)                (None, 128)               6889600   \n",
            "_________________________________________________________________\n",
            "activation_3 (Activation)    (None, 128)               0         \n",
            "_________________________________________________________________\n",
            "dense_1 (Dense)              (None, 128)               16512     \n",
            "_________________________________________________________________\n",
            "activation_4 (Activation)    (None, 128)               0         \n",
            "_________________________________________________________________\n",
            "dense_2 (Dense)              (None, 64)                8256      \n",
            "_________________________________________________________________\n",
            "activation_5 (Activation)    (None, 64)                0         \n",
            "_________________________________________________________________\n",
            "dense_3 (Dense)              (None, 64)                4160      \n",
            "_________________________________________________________________\n",
            "activation_6 (Activation)    (None, 64)                0         \n",
            "_________________________________________________________________\n",
            "dense_4 (Dense)              (None, 4)                 260       \n",
            "_________________________________________________________________\n",
            "activation_7 (Activation)    (None, 4)                 0         \n",
            "=================================================================\n",
            "Total params: 6,994,436\n",
            "Trainable params: 6,994,436\n",
            "Non-trainable params: 0\n",
            "_________________________________________________________________\n",
            "Epoch 1/200\n",
            "8/8 [==============================] - 40s 542ms/step - loss: 0.6373 - accuracy: 0.3422\n",
            "Epoch 2/200\n",
            "8/8 [==============================] - 2s 265ms/step - loss: 0.5226 - accuracy: 0.3418\n",
            "Epoch 3/200\n",
            "8/8 [==============================] - 2s 267ms/step - loss: 0.5112 - accuracy: 0.4142\n",
            "Epoch 4/200\n",
            "8/8 [==============================] - 2s 266ms/step - loss: 0.5198 - accuracy: 0.3739\n",
            "Epoch 5/200\n",
            "8/8 [==============================] - 2s 269ms/step - loss: 0.4987 - accuracy: 0.4348\n",
            "Epoch 6/200\n",
            "8/8 [==============================] - 2s 262ms/step - loss: 0.5041 - accuracy: 0.4316\n",
            "Epoch 7/200\n",
            "8/8 [==============================] - 2s 274ms/step - loss: 0.4801 - accuracy: 0.4962\n",
            "Epoch 8/200\n",
            "8/8 [==============================] - 2s 268ms/step - loss: 0.4928 - accuracy: 0.4527\n",
            "Epoch 9/200\n",
            "8/8 [==============================] - 2s 267ms/step - loss: 0.4785 - accuracy: 0.4933\n",
            "Epoch 10/200\n",
            "8/8 [==============================] - 2s 267ms/step - loss: 0.4613 - accuracy: 0.4951\n",
            "Epoch 11/200\n",
            "8/8 [==============================] - 2s 264ms/step - loss: 0.4524 - accuracy: 0.5602\n",
            "Epoch 12/200\n",
            "8/8 [==============================] - 2s 269ms/step - loss: 0.4401 - accuracy: 0.5582\n",
            "Epoch 13/200\n",
            "8/8 [==============================] - 2s 270ms/step - loss: 0.3840 - accuracy: 0.6572\n",
            "Epoch 14/200\n",
            "8/8 [==============================] - 2s 269ms/step - loss: 0.3880 - accuracy: 0.6470\n",
            "Epoch 15/200\n",
            "8/8 [==============================] - 2s 269ms/step - loss: 0.3538 - accuracy: 0.6834\n",
            "Epoch 16/200\n",
            "8/8 [==============================] - 2s 270ms/step - loss: 0.3372 - accuracy: 0.6935\n",
            "Epoch 17/200\n",
            "8/8 [==============================] - 2s 273ms/step - loss: 0.3461 - accuracy: 0.6995\n",
            "Epoch 18/200\n",
            "8/8 [==============================] - 2s 276ms/step - loss: 0.3326 - accuracy: 0.6894\n",
            "Epoch 19/200\n",
            "8/8 [==============================] - 2s 271ms/step - loss: 0.3251 - accuracy: 0.7045\n",
            "Epoch 20/200\n",
            "8/8 [==============================] - 2s 270ms/step - loss: 0.2913 - accuracy: 0.7343\n",
            "Epoch 21/200\n",
            "8/8 [==============================] - 2s 268ms/step - loss: 0.2675 - accuracy: 0.7725\n",
            "Epoch 22/200\n",
            "8/8 [==============================] - 2s 273ms/step - loss: 0.2807 - accuracy: 0.7577\n",
            "Epoch 23/200\n",
            "8/8 [==============================] - 2s 267ms/step - loss: 0.2513 - accuracy: 0.7684\n",
            "Epoch 24/200\n",
            "8/8 [==============================] - 2s 271ms/step - loss: 0.2529 - accuracy: 0.7771\n",
            "Epoch 25/200\n",
            "8/8 [==============================] - 2s 274ms/step - loss: 0.2446 - accuracy: 0.7999\n",
            "Epoch 26/200\n",
            "8/8 [==============================] - 2s 271ms/step - loss: 0.2543 - accuracy: 0.7851\n",
            "Epoch 27/200\n",
            "8/8 [==============================] - 2s 272ms/step - loss: 0.2017 - accuracy: 0.8385\n",
            "Epoch 28/200\n",
            "8/8 [==============================] - 2s 269ms/step - loss: 0.1488 - accuracy: 0.8959\n",
            "Epoch 29/200\n",
            "8/8 [==============================] - 2s 269ms/step - loss: 0.1496 - accuracy: 0.8723\n",
            "Epoch 30/200\n",
            "8/8 [==============================] - 2s 277ms/step - loss: 0.1934 - accuracy: 0.8499\n",
            "Epoch 31/200\n",
            "8/8 [==============================] - 2s 267ms/step - loss: 0.1841 - accuracy: 0.8491\n",
            "Epoch 32/200\n",
            "8/8 [==============================] - 2s 270ms/step - loss: 0.1702 - accuracy: 0.8700\n",
            "Epoch 33/200\n",
            "8/8 [==============================] - 2s 272ms/step - loss: 0.1121 - accuracy: 0.9257\n",
            "Epoch 34/200\n",
            "8/8 [==============================] - 2s 274ms/step - loss: 0.1343 - accuracy: 0.9117\n",
            "Epoch 35/200\n",
            "8/8 [==============================] - 2s 269ms/step - loss: 0.0924 - accuracy: 0.9321\n",
            "Epoch 36/200\n",
            "8/8 [==============================] - 2s 271ms/step - loss: 0.0613 - accuracy: 0.9662\n",
            "Epoch 37/200\n",
            "8/8 [==============================] - 2s 272ms/step - loss: 0.0593 - accuracy: 0.9505\n",
            "Epoch 38/200\n",
            "8/8 [==============================] - 2s 268ms/step - loss: 0.0541 - accuracy: 0.9628\n",
            "Epoch 39/200\n",
            "8/8 [==============================] - 2s 265ms/step - loss: 0.0601 - accuracy: 0.9711\n",
            "Epoch 40/200\n",
            "8/8 [==============================] - 2s 269ms/step - loss: 0.1822 - accuracy: 0.8821\n",
            "Epoch 41/200\n",
            "8/8 [==============================] - 2s 269ms/step - loss: 0.2045 - accuracy: 0.8452\n",
            "Epoch 42/200\n",
            "8/8 [==============================] - 2s 272ms/step - loss: 0.1314 - accuracy: 0.9054\n",
            "Epoch 43/200\n",
            "8/8 [==============================] - 2s 269ms/step - loss: 0.0820 - accuracy: 0.9563\n",
            "Epoch 44/200\n",
            "8/8 [==============================] - 2s 272ms/step - loss: 0.0565 - accuracy: 0.9742\n",
            "Epoch 45/200\n",
            "8/8 [==============================] - 2s 272ms/step - loss: 0.0445 - accuracy: 0.9693\n",
            "Epoch 46/200\n",
            "8/8 [==============================] - 2s 275ms/step - loss: 0.0265 - accuracy: 0.9841\n",
            "Epoch 47/200\n",
            "8/8 [==============================] - 2s 270ms/step - loss: 0.0376 - accuracy: 0.9809\n",
            "Epoch 48/200\n",
            "8/8 [==============================] - 2s 270ms/step - loss: 0.0369 - accuracy: 0.9786\n",
            "Epoch 49/200\n",
            "8/8 [==============================] - 2s 270ms/step - loss: 0.0157 - accuracy: 0.9971\n",
            "Epoch 50/200\n",
            "8/8 [==============================] - 2s 271ms/step - loss: 0.0130 - accuracy: 0.9927\n",
            "Epoch 51/200\n",
            "8/8 [==============================] - 2s 275ms/step - loss: 0.0077 - accuracy: 0.9988\n",
            "Epoch 52/200\n",
            "8/8 [==============================] - 2s 275ms/step - loss: 0.0056 - accuracy: 0.9966\n",
            "Epoch 53/200\n",
            "8/8 [==============================] - 2s 273ms/step - loss: 0.0098 - accuracy: 0.9965\n",
            "Epoch 54/200\n",
            "8/8 [==============================] - 2s 275ms/step - loss: 0.0079 - accuracy: 0.9957\n",
            "Epoch 55/200\n",
            "8/8 [==============================] - 2s 273ms/step - loss: 0.0074 - accuracy: 0.9975\n",
            "Epoch 56/200\n",
            "8/8 [==============================] - 2s 268ms/step - loss: 0.0193 - accuracy: 0.9903\n",
            "Epoch 57/200\n",
            "8/8 [==============================] - 2s 273ms/step - loss: 0.0214 - accuracy: 0.9852\n",
            "Epoch 58/200\n",
            "8/8 [==============================] - 2s 275ms/step - loss: 0.0492 - accuracy: 0.9716\n",
            "Epoch 59/200\n",
            "8/8 [==============================] - 2s 276ms/step - loss: 0.0230 - accuracy: 0.9894\n",
            "Epoch 60/200\n",
            "8/8 [==============================] - 2s 275ms/step - loss: 0.0168 - accuracy: 0.9932\n",
            "Epoch 61/200\n",
            "8/8 [==============================] - 2s 277ms/step - loss: 0.0841 - accuracy: 0.9426\n",
            "Epoch 62/200\n",
            "8/8 [==============================] - 2s 271ms/step - loss: 0.0562 - accuracy: 0.9696\n",
            "Epoch 63/200\n",
            "8/8 [==============================] - 2s 275ms/step - loss: 0.0348 - accuracy: 0.9790\n",
            "Epoch 64/200\n",
            "8/8 [==============================] - 2s 274ms/step - loss: 0.0184 - accuracy: 0.9946\n",
            "Epoch 65/200\n",
            "8/8 [==============================] - 2s 272ms/step - loss: 0.0081 - accuracy: 0.9988\n",
            "Epoch 66/200\n",
            "8/8 [==============================] - 2s 273ms/step - loss: 0.0038 - accuracy: 1.0000\n",
            "Epoch 67/200\n",
            "8/8 [==============================] - 2s 274ms/step - loss: 0.0035 - accuracy: 0.9975\n",
            "Epoch 68/200\n",
            "8/8 [==============================] - 2s 274ms/step - loss: 0.0101 - accuracy: 0.9939\n",
            "Epoch 69/200\n",
            "8/8 [==============================] - 2s 275ms/step - loss: 0.0825 - accuracy: 0.9393\n",
            "Epoch 70/200\n",
            "8/8 [==============================] - 2s 277ms/step - loss: 0.0432 - accuracy: 0.9692\n",
            "Epoch 71/200\n",
            "8/8 [==============================] - 2s 273ms/step - loss: 0.0340 - accuracy: 0.9775\n",
            "Epoch 72/200\n",
            "8/8 [==============================] - 2s 274ms/step - loss: 0.0327 - accuracy: 0.9735\n",
            "Epoch 73/200\n",
            "8/8 [==============================] - 2s 270ms/step - loss: 0.0210 - accuracy: 0.9840\n",
            "Epoch 74/200\n",
            "8/8 [==============================] - 2s 280ms/step - loss: 0.0104 - accuracy: 0.9948\n",
            "Epoch 75/200\n",
            "8/8 [==============================] - 2s 264ms/step - loss: 0.0108 - accuracy: 0.9938\n",
            "Epoch 76/200\n",
            "8/8 [==============================] - 2s 274ms/step - loss: 0.0034 - accuracy: 0.9984\n",
            "Epoch 77/200\n",
            "8/8 [==============================] - 2s 273ms/step - loss: 0.0021 - accuracy: 1.0000\n",
            "Epoch 78/200\n",
            "8/8 [==============================] - 2s 273ms/step - loss: 0.0024 - accuracy: 0.9975\n",
            "Epoch 79/200\n",
            "8/8 [==============================] - 2s 278ms/step - loss: 0.0011 - accuracy: 1.0000\n",
            "Epoch 80/200\n",
            "8/8 [==============================] - 2s 272ms/step - loss: 0.0019 - accuracy: 0.9984\n",
            "Epoch 81/200\n",
            "8/8 [==============================] - 2s 279ms/step - loss: 5.8963e-04 - accuracy: 1.0000\n",
            "Epoch 82/200\n",
            "8/8 [==============================] - 2s 278ms/step - loss: 8.4299e-04 - accuracy: 1.0000\n",
            "Epoch 83/200\n",
            "8/8 [==============================] - 2s 277ms/step - loss: 4.2089e-04 - accuracy: 1.0000\n",
            "Epoch 84/200\n",
            "8/8 [==============================] - 2s 279ms/step - loss: 3.2188e-04 - accuracy: 1.0000\n",
            "Epoch 85/200\n",
            "8/8 [==============================] - 2s 275ms/step - loss: 0.0021 - accuracy: 0.9988\n",
            "Epoch 86/200\n",
            "8/8 [==============================] - 2s 278ms/step - loss: 0.0070 - accuracy: 0.9948\n",
            "Epoch 87/200\n",
            "8/8 [==============================] - 2s 279ms/step - loss: 0.0105 - accuracy: 0.9936\n",
            "Epoch 88/200\n",
            "8/8 [==============================] - 2s 273ms/step - loss: 0.0110 - accuracy: 0.9943\n",
            "Epoch 89/200\n",
            "8/8 [==============================] - 2s 278ms/step - loss: 0.0055 - accuracy: 0.9954\n",
            "Epoch 90/200\n",
            "8/8 [==============================] - 2s 274ms/step - loss: 0.0019 - accuracy: 0.9993\n",
            "Epoch 91/200\n",
            "8/8 [==============================] - 2s 276ms/step - loss: 0.0020 - accuracy: 1.0000\n",
            "Epoch 92/200\n",
            "8/8 [==============================] - 2s 285ms/step - loss: 0.0031 - accuracy: 0.9975\n",
            "Epoch 93/200\n",
            "8/8 [==============================] - 2s 279ms/step - loss: 0.0071 - accuracy: 0.9935\n",
            "Epoch 94/200\n",
            "8/8 [==============================] - 2s 283ms/step - loss: 0.0044 - accuracy: 0.9979\n",
            "Epoch 95/200\n",
            "8/8 [==============================] - 2s 284ms/step - loss: 0.0012 - accuracy: 1.0000\n",
            "Epoch 96/200\n",
            "8/8 [==============================] - 2s 285ms/step - loss: 0.0022 - accuracy: 0.9986\n",
            "Epoch 97/200\n",
            "8/8 [==============================] - 2s 280ms/step - loss: 0.0038 - accuracy: 0.9984\n",
            "Epoch 98/200\n",
            "8/8 [==============================] - 2s 279ms/step - loss: 7.4900e-04 - accuracy: 0.9995\n",
            "Epoch 99/200\n",
            "8/8 [==============================] - 2s 277ms/step - loss: 0.0010 - accuracy: 1.0000\n",
            "Epoch 100/200\n",
            "8/8 [==============================] - 2s 273ms/step - loss: 3.0984e-04 - accuracy: 1.0000\n",
            "Epoch 101/200\n",
            "8/8 [==============================] - 2s 282ms/step - loss: 6.5804e-04 - accuracy: 1.0000\n",
            "Epoch 102/200\n",
            "8/8 [==============================] - 2s 280ms/step - loss: 1.8604e-04 - accuracy: 1.0000\n",
            "Epoch 103/200\n",
            "8/8 [==============================] - 2s 280ms/step - loss: 1.3454e-04 - accuracy: 1.0000\n",
            "Epoch 104/200\n",
            "8/8 [==============================] - 2s 280ms/step - loss: 1.2467e-04 - accuracy: 1.0000\n",
            "Epoch 105/200\n",
            "8/8 [==============================] - 2s 280ms/step - loss: 1.0212e-04 - accuracy: 1.0000\n",
            "Epoch 106/200\n",
            "8/8 [==============================] - 2s 281ms/step - loss: 8.3086e-05 - accuracy: 1.0000\n",
            "Epoch 107/200\n",
            "8/8 [==============================] - 2s 280ms/step - loss: 1.7885e-04 - accuracy: 1.0000\n",
            "Epoch 108/200\n",
            "8/8 [==============================] - 2s 282ms/step - loss: 7.7681e-05 - accuracy: 1.0000\n",
            "Epoch 109/200\n",
            "8/8 [==============================] - 2s 282ms/step - loss: 7.6724e-05 - accuracy: 1.0000\n",
            "Epoch 110/200\n",
            "8/8 [==============================] - 2s 275ms/step - loss: 1.3193e-04 - accuracy: 1.0000\n",
            "Epoch 111/200\n",
            "8/8 [==============================] - 2s 279ms/step - loss: 1.3488e-04 - accuracy: 1.0000\n",
            "Epoch 112/200\n",
            "8/8 [==============================] - 2s 275ms/step - loss: 9.1339e-05 - accuracy: 1.0000\n",
            "Epoch 113/200\n",
            "8/8 [==============================] - 2s 277ms/step - loss: 5.3044e-05 - accuracy: 1.0000\n",
            "Epoch 114/200\n",
            "8/8 [==============================] - 2s 280ms/step - loss: 7.9032e-05 - accuracy: 1.0000\n",
            "Epoch 115/200\n",
            "8/8 [==============================] - 2s 275ms/step - loss: 7.9445e-05 - accuracy: 1.0000\n",
            "Epoch 116/200\n",
            "8/8 [==============================] - 2s 277ms/step - loss: 6.4865e-05 - accuracy: 1.0000\n",
            "Epoch 117/200\n",
            "8/8 [==============================] - 2s 280ms/step - loss: 2.3644e-04 - accuracy: 1.0000\n",
            "Epoch 118/200\n",
            "8/8 [==============================] - 2s 283ms/step - loss: 1.5282e-04 - accuracy: 1.0000\n",
            "Epoch 119/200\n",
            "8/8 [==============================] - 2s 277ms/step - loss: 5.4174e-05 - accuracy: 1.0000\n",
            "Epoch 120/200\n",
            "8/8 [==============================] - 2s 280ms/step - loss: 4.6645e-05 - accuracy: 1.0000\n",
            "Epoch 121/200\n",
            "8/8 [==============================] - 2s 280ms/step - loss: 4.5972e-05 - accuracy: 1.0000\n",
            "Epoch 122/200\n",
            "8/8 [==============================] - 2s 278ms/step - loss: 3.7238e-05 - accuracy: 1.0000\n",
            "Epoch 123/200\n",
            "8/8 [==============================] - 2s 280ms/step - loss: 4.7209e-05 - accuracy: 1.0000\n",
            "Epoch 124/200\n",
            "8/8 [==============================] - 2s 275ms/step - loss: 5.4754e-05 - accuracy: 1.0000\n",
            "Epoch 125/200\n",
            "8/8 [==============================] - 2s 273ms/step - loss: 3.6391e-05 - accuracy: 1.0000\n",
            "Epoch 126/200\n",
            "8/8 [==============================] - 2s 281ms/step - loss: 3.8028e-05 - accuracy: 1.0000\n",
            "Epoch 127/200\n",
            "8/8 [==============================] - 2s 281ms/step - loss: 3.2794e-05 - accuracy: 1.0000\n",
            "Epoch 128/200\n",
            "8/8 [==============================] - 2s 281ms/step - loss: 3.4544e-05 - accuracy: 1.0000\n",
            "Epoch 129/200\n",
            "8/8 [==============================] - 2s 273ms/step - loss: 3.3143e-05 - accuracy: 1.0000\n",
            "Epoch 130/200\n",
            "8/8 [==============================] - 2s 281ms/step - loss: 4.4151e-05 - accuracy: 1.0000\n",
            "Epoch 131/200\n",
            "8/8 [==============================] - 2s 275ms/step - loss: 3.4288e-05 - accuracy: 1.0000\n",
            "Epoch 132/200\n",
            "8/8 [==============================] - 2s 283ms/step - loss: 3.0033e-05 - accuracy: 1.0000\n",
            "Epoch 133/200\n",
            "8/8 [==============================] - 2s 283ms/step - loss: 2.8768e-05 - accuracy: 1.0000\n",
            "Epoch 134/200\n",
            "8/8 [==============================] - 2s 285ms/step - loss: 3.0027e-05 - accuracy: 1.0000\n",
            "Epoch 135/200\n",
            "8/8 [==============================] - 2s 281ms/step - loss: 2.9011e-05 - accuracy: 1.0000\n",
            "Epoch 136/200\n",
            "8/8 [==============================] - 2s 272ms/step - loss: 2.8690e-05 - accuracy: 1.0000\n",
            "Epoch 137/200\n",
            "8/8 [==============================] - 2s 286ms/step - loss: 2.7717e-05 - accuracy: 1.0000\n",
            "Epoch 138/200\n",
            "8/8 [==============================] - 2s 281ms/step - loss: 2.9802e-05 - accuracy: 1.0000\n",
            "Epoch 139/200\n",
            "8/8 [==============================] - 2s 279ms/step - loss: 2.5926e-05 - accuracy: 1.0000\n",
            "Epoch 140/200\n",
            "8/8 [==============================] - 2s 277ms/step - loss: 3.7582e-05 - accuracy: 1.0000\n",
            "Epoch 141/200\n",
            "8/8 [==============================] - 2s 276ms/step - loss: 2.1574e-05 - accuracy: 1.0000\n",
            "Epoch 142/200\n",
            "8/8 [==============================] - 2s 282ms/step - loss: 2.1320e-05 - accuracy: 1.0000\n",
            "Epoch 143/200\n",
            "8/8 [==============================] - 2s 277ms/step - loss: 2.6456e-05 - accuracy: 1.0000\n",
            "Epoch 144/200\n",
            "8/8 [==============================] - 2s 276ms/step - loss: 3.2349e-05 - accuracy: 1.0000\n",
            "Epoch 145/200\n",
            "8/8 [==============================] - 2s 277ms/step - loss: 2.5157e-05 - accuracy: 1.0000\n",
            "Epoch 146/200\n",
            "8/8 [==============================] - 2s 282ms/step - loss: 2.1211e-05 - accuracy: 1.0000\n",
            "Epoch 147/200\n",
            "8/8 [==============================] - 2s 282ms/step - loss: 2.5361e-05 - accuracy: 1.0000\n",
            "Epoch 148/200\n",
            "8/8 [==============================] - 2s 273ms/step - loss: 3.0186e-05 - accuracy: 1.0000\n",
            "Epoch 149/200\n",
            "8/8 [==============================] - 2s 279ms/step - loss: 2.7549e-05 - accuracy: 1.0000\n",
            "Epoch 150/200\n",
            "8/8 [==============================] - 2s 277ms/step - loss: 2.1186e-05 - accuracy: 1.0000\n",
            "Epoch 151/200\n",
            "8/8 [==============================] - 2s 272ms/step - loss: 1.7801e-05 - accuracy: 1.0000\n",
            "Epoch 152/200\n",
            "8/8 [==============================] - 2s 278ms/step - loss: 3.3869e-05 - accuracy: 1.0000\n",
            "Epoch 153/200\n",
            "8/8 [==============================] - 2s 276ms/step - loss: 3.4444e-05 - accuracy: 1.0000\n",
            "Epoch 154/200\n",
            "8/8 [==============================] - 2s 272ms/step - loss: 1.9511e-05 - accuracy: 1.0000\n",
            "Epoch 155/200\n",
            "8/8 [==============================] - 2s 281ms/step - loss: 2.5572e-05 - accuracy: 1.0000\n",
            "Epoch 156/200\n",
            "8/8 [==============================] - 2s 280ms/step - loss: 1.8665e-05 - accuracy: 1.0000\n",
            "Epoch 157/200\n",
            "8/8 [==============================] - 2s 278ms/step - loss: 1.9569e-05 - accuracy: 1.0000\n",
            "Epoch 158/200\n",
            "8/8 [==============================] - 2s 281ms/step - loss: 2.7059e-05 - accuracy: 1.0000\n",
            "Epoch 159/200\n",
            "8/8 [==============================] - 2s 277ms/step - loss: 3.0035e-05 - accuracy: 1.0000\n",
            "Epoch 160/200\n",
            "8/8 [==============================] - 2s 280ms/step - loss: 2.1977e-05 - accuracy: 1.0000\n",
            "Epoch 161/200\n",
            "8/8 [==============================] - 2s 278ms/step - loss: 2.0633e-05 - accuracy: 1.0000\n",
            "Epoch 162/200\n",
            "8/8 [==============================] - 2s 279ms/step - loss: 1.7281e-05 - accuracy: 1.0000\n",
            "Epoch 163/200\n",
            "8/8 [==============================] - 2s 277ms/step - loss: 1.7172e-05 - accuracy: 1.0000\n",
            "Epoch 164/200\n",
            "8/8 [==============================] - 2s 278ms/step - loss: 2.0149e-05 - accuracy: 1.0000\n",
            "Epoch 165/200\n",
            "8/8 [==============================] - 2s 281ms/step - loss: 2.2432e-05 - accuracy: 1.0000\n",
            "Epoch 166/200\n",
            "8/8 [==============================] - 2s 280ms/step - loss: 1.9732e-05 - accuracy: 1.0000\n",
            "Epoch 167/200\n",
            "8/8 [==============================] - 2s 278ms/step - loss: 1.7288e-05 - accuracy: 1.0000\n",
            "Epoch 168/200\n",
            "8/8 [==============================] - 2s 282ms/step - loss: 2.3048e-05 - accuracy: 1.0000\n",
            "Epoch 169/200\n",
            "8/8 [==============================] - 2s 278ms/step - loss: 2.5389e-05 - accuracy: 1.0000\n",
            "Epoch 170/200\n",
            "8/8 [==============================] - 2s 282ms/step - loss: 2.2243e-05 - accuracy: 1.0000\n",
            "Epoch 171/200\n",
            "8/8 [==============================] - 2s 282ms/step - loss: 1.5573e-05 - accuracy: 1.0000\n",
            "Epoch 172/200\n",
            "8/8 [==============================] - 2s 280ms/step - loss: 1.8774e-05 - accuracy: 1.0000\n",
            "Epoch 173/200\n",
            "8/8 [==============================] - 2s 277ms/step - loss: 1.5153e-05 - accuracy: 1.0000\n",
            "Epoch 174/200\n",
            "8/8 [==============================] - 2s 277ms/step - loss: 1.8806e-05 - accuracy: 1.0000\n",
            "Epoch 175/200\n",
            "8/8 [==============================] - 2s 284ms/step - loss: 1.5612e-05 - accuracy: 1.0000\n",
            "Epoch 176/200\n",
            "8/8 [==============================] - 2s 282ms/step - loss: 1.2076e-05 - accuracy: 1.0000\n",
            "Epoch 177/200\n",
            "8/8 [==============================] - 2s 273ms/step - loss: 1.2376e-05 - accuracy: 1.0000\n",
            "Epoch 178/200\n",
            "8/8 [==============================] - 2s 277ms/step - loss: 1.4553e-05 - accuracy: 1.0000\n",
            "Epoch 179/200\n",
            "8/8 [==============================] - 2s 278ms/step - loss: 1.8989e-05 - accuracy: 1.0000\n",
            "Epoch 180/200\n",
            "8/8 [==============================] - 2s 284ms/step - loss: 1.8880e-05 - accuracy: 1.0000\n",
            "Epoch 181/200\n",
            "8/8 [==============================] - 2s 279ms/step - loss: 1.9545e-05 - accuracy: 1.0000\n",
            "Epoch 182/200\n",
            "8/8 [==============================] - 2s 282ms/step - loss: 1.4988e-05 - accuracy: 1.0000\n",
            "Epoch 183/200\n",
            "8/8 [==============================] - 2s 281ms/step - loss: 1.2850e-05 - accuracy: 1.0000\n",
            "Epoch 184/200\n",
            "8/8 [==============================] - 2s 279ms/step - loss: 1.5886e-05 - accuracy: 1.0000\n",
            "Epoch 185/200\n",
            "8/8 [==============================] - 2s 277ms/step - loss: 1.2710e-05 - accuracy: 1.0000\n",
            "Epoch 186/200\n",
            "8/8 [==============================] - 2s 279ms/step - loss: 1.2483e-05 - accuracy: 1.0000\n",
            "Epoch 187/200\n",
            "8/8 [==============================] - 2s 283ms/step - loss: 1.2719e-05 - accuracy: 1.0000\n",
            "Epoch 188/200\n",
            "8/8 [==============================] - 2s 280ms/step - loss: 1.4076e-05 - accuracy: 1.0000\n",
            "Epoch 189/200\n",
            "8/8 [==============================] - 2s 279ms/step - loss: 1.5806e-05 - accuracy: 1.0000\n",
            "Epoch 190/200\n",
            "8/8 [==============================] - 2s 277ms/step - loss: 1.1725e-05 - accuracy: 1.0000\n",
            "Epoch 191/200\n",
            "8/8 [==============================] - 2s 277ms/step - loss: 1.1343e-05 - accuracy: 1.0000\n",
            "Epoch 192/200\n",
            "8/8 [==============================] - 2s 284ms/step - loss: 1.2225e-05 - accuracy: 1.0000\n",
            "Epoch 193/200\n",
            "8/8 [==============================] - 2s 284ms/step - loss: 1.5087e-05 - accuracy: 1.0000\n",
            "Epoch 194/200\n",
            "8/8 [==============================] - 2s 276ms/step - loss: 1.0922e-05 - accuracy: 1.0000\n",
            "Epoch 195/200\n",
            "8/8 [==============================] - 2s 275ms/step - loss: 1.2893e-05 - accuracy: 1.0000\n",
            "Epoch 196/200\n",
            "8/8 [==============================] - 2s 274ms/step - loss: 1.5377e-05 - accuracy: 1.0000\n",
            "Epoch 197/200\n",
            "8/8 [==============================] - 2s 277ms/step - loss: 1.4527e-05 - accuracy: 1.0000\n",
            "Epoch 198/200\n",
            "8/8 [==============================] - 2s 287ms/step - loss: 1.4514e-05 - accuracy: 1.0000\n",
            "Epoch 199/200\n",
            "8/8 [==============================] - 2s 281ms/step - loss: 1.5549e-05 - accuracy: 1.0000\n",
            "Epoch 200/200\n",
            "8/8 [==============================] - 2s 277ms/step - loss: 1.0244e-05 - accuracy: 1.0000\n"
          ],
          "name": "stdout"
        }
      ]
    },
    {
      "cell_type": "code",
      "metadata": {
        "colab": {
          "base_uri": "https://localhost:8080/",
          "height": 573
        },
        "id": "8aPw0eWe2-gI",
        "outputId": "ec5b0923-0f27-4cae-a3f4-4e8619ee796e"
      },
      "source": [
        "# list all data in history\n",
        "#print(history.history.keys())\n",
        "#print(model.metrics_names)\n",
        "# summarize history for accuracy\n",
        "plt.plot(history.history['accuracy'])\n",
        "plt.title('model accuracy')\n",
        "plt.ylabel('accuracy')\n",
        "plt.xlabel('epoch')\n",
        "plt.legend(['train', 'test'], loc='upper left')\n",
        "plt.show()\n",
        "# summarize history for loss\n",
        "plt.plot(history.history['loss'])\n",
        "plt.title('model loss')\n",
        "plt.ylabel('loss')\n",
        "plt.xlabel('epoch')\n",
        "plt.legend(['train', 'test'], loc='upper left')\n",
        "plt.show()"
      ],
      "execution_count": null,
      "outputs": [
        {
          "output_type": "display_data",
          "data": {
            "image/png": "[encoded data removed]",
            "text/plain": [
              "<Figure size 432x288 with 1 Axes>"
            ]
          },
          "metadata": {
            "tags": [],
            "needs_background": "light"
          }
        },
        {
          "output_type": "display_data",
          "data": {
            "image/png": "[encoded data removed]",
            "text/plain": [
              "<Figure size 432x288 with 1 Axes>"
            ]
          },
          "metadata": {
            "tags": [],
            "needs_background": "light"
          }
        }
      ]
    },
    {
      "cell_type": "code",
      "metadata": {
        "colab": {
          "base_uri": "https://localhost:8080/"
        },
        "id": "EUGk0cPgCsnc",
        "outputId": "6daae015-b9fe-4a3e-aea1-0867f9b5c31d"
      },
      "source": [
        "score = model.evaluate(X_test, y_test, verbose=0)\n",
        "print(f'Test loss: {score[0]} / Test accuracy: {score[1]}')"
      ],
      "execution_count": null,
      "outputs": [
        {
          "output_type": "stream",
          "text": [
            "Test loss: 1.0383189916610718 / Test accuracy: 0.7531380653381348\n"
          ],
          "name": "stdout"
        }
      ]
    },
    {
      "cell_type": "code",
      "metadata": {
        "id": "5C4ETOx6mSBl",
        "colab": {
          "base_uri": "https://localhost:8080/"
        },
        "outputId": "0a58afd1-bd61-46cf-c35f-56f440ef7746"
      },
      "source": [
        "# Cuối cùng là dùng một mẫu để dự đoán\n",
        "i=130\n",
        "y_hat = model.predict(X_test[i:i+1])\n",
        "y_label = np.argmax(y_hat, axis=1)\n",
        "print(y_label)\n",
        "print(y_test[i])"
      ],
      "execution_count": null,
      "outputs": [
        {
          "output_type": "stream",
          "text": [
            "[1]\n",
            "[0. 1. 0. 0.]\n"
          ],
          "name": "stdout"
        }
      ]
    }
  ]
}