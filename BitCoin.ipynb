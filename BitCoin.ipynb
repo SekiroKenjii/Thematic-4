{
  "nbformat": 4,
  "nbformat_minor": 0,
  "metadata": {
    "colab": {
      "name": "BitCoin.ipynb",
      "provenance": [],
      "collapsed_sections": [],
      "include_colab_link": true
    },
    "kernelspec": {
      "name": "python3",
      "display_name": "Python 3"
    },
    "language_info": {
      "name": "python"
    }
  },
  "cells": [
    {
      "cell_type": "markdown",
      "metadata": {
        "id": "view-in-github",
        "colab_type": "text"
      },
      "source": [
        "<a href=\"https://colab.research.google.com/github/SekiroKenjii/Thematic-4/blob/main/BitCoin.ipynb\" target=\"_parent\"><img src=\"https://colab.research.google.com/assets/colab-badge.svg\" alt=\"Open In Colab\"/></a>"
      ]
    },
    {
      "cell_type": "code",
      "metadata": {
        "colab": {
          "base_uri": "https://localhost:8080/"
        },
        "id": "9APxZ5Ja9bo4",
        "outputId": "4ed9b226-c41d-477e-e1e5-288c2a60444e"
      },
      "source": [
        "from google.colab import drive\n",
        "drive.mount('/content/drive')"
      ],
      "execution_count": 1,
      "outputs": [
        {
          "output_type": "stream",
          "text": [
            "Mounted at /content/drive\n"
          ],
          "name": "stdout"
        }
      ]
    },
    {
      "cell_type": "code",
      "metadata": {
        "id": "ExxqZYUm86t2"
      },
      "source": [
        "import numpy as np\n",
        "import matplotlib.pyplot as plt\n",
        "from pathlib import Path\n",
        "import pandas as pd\n",
        "import random\n",
        "import pickle\n",
        "import tensorflow as tf\n",
        "from tensorflow import keras\n",
        "from tensorflow.keras.models import Sequential\n",
        "from tensorflow.keras.layers import LSTM,Dense ,Dropout, Bidirectional\n",
        "from sklearn.model_selection import train_test_split\n",
        "from sklearn.preprocessing import MinMaxScaler"
      ],
      "execution_count": 2,
      "outputs": []
    },
    {
      "cell_type": "markdown",
      "metadata": {
        "id": "6Gp63o_NXGZT"
      },
      "source": [
        "Load dataset"
      ]
    },
    {
      "cell_type": "code",
      "metadata": {
        "id": "TN9DO56D-Mpg"
      },
      "source": [
        "da = pd.read_csv('/content/drive/MyDrive/BTC_USD_2013-10-01_2021-03-30.csv')\n",
        "da.head()\n",
        "dataset = da.copy()\n",
        "dataset_labels = dataset.pop('Closing Price (USD)')\n",
        "dataset = np.array(dataset_labels)\n",
        "#dataset"
      ],
      "execution_count": 3,
      "outputs": []
    },
    {
      "cell_type": "markdown",
      "metadata": {
        "id": "l1w02LgoXPH1"
      },
      "source": [
        "Scaler dataset"
      ]
    },
    {
      "cell_type": "code",
      "metadata": {
        "id": "7kGQg8yx-TEv"
      },
      "source": [
        "sc = MinMaxScaler(feature_range=(0,1))\n",
        "dataset = dataset.reshape(-1, 1)\n",
        "dataset_scaled = sc.fit_transform(dataset)\n",
        "#dataset_scaled"
      ],
      "execution_count": 4,
      "outputs": []
    },
    {
      "cell_type": "markdown",
      "metadata": {
        "id": "qAmjYk4kXXBc"
      },
      "source": [
        "Tạo input"
      ]
    },
    {
      "cell_type": "code",
      "metadata": {
        "id": "Iu0nnyIu-Tsn"
      },
      "source": [
        "X = []\n",
        "Y = []\n",
        "n_future = 1 # next 1 days forecast\n",
        "n_past = 30 # Past 30 days \n",
        "for i in range(0,len(dataset_scaled)-n_past-n_future+1):\n",
        "    X.append(dataset_scaled[i : i + n_past , 0])     \n",
        "    Y.append(dataset_scaled[i + n_past : i + n_past + n_future , 0 ])\n",
        "X , Y = np.array(X), np.array(Y)\n",
        "X = np.reshape(X, (X.shape[0] , X.shape[1], 1) )"
      ],
      "execution_count": 5,
      "outputs": []
    },
    {
      "cell_type": "code",
      "metadata": {
        "colab": {
          "base_uri": "https://localhost:8080/"
        },
        "id": "7MDed2ayY1Es",
        "outputId": "da058ccf-60f9-4087-9d68-875b00b2a0d3"
      },
      "source": [
        "len(X)"
      ],
      "execution_count": 6,
      "outputs": [
        {
          "output_type": "execute_result",
          "data": {
            "text/plain": [
              "2708"
            ]
          },
          "metadata": {
            "tags": []
          },
          "execution_count": 6
        }
      ]
    },
    {
      "cell_type": "markdown",
      "metadata": {
        "id": "C292Q7PJago6"
      },
      "source": [
        "Tạp tập train và tập test."
      ]
    },
    {
      "cell_type": "code",
      "metadata": {
        "id": "z1l6n-BTZ49y"
      },
      "source": [
        "X_train, X_test, Y_train, Y_test = train_test_split(X, Y, test_size=0.01)"
      ],
      "execution_count": 7,
      "outputs": []
    },
    {
      "cell_type": "code",
      "metadata": {
        "colab": {
          "base_uri": "https://localhost:8080/"
        },
        "id": "OJeZa2XiaVyr",
        "outputId": "0f9adafa-39c9-4f7c-cc9a-53162e17fb63"
      },
      "source": [
        "len(X_train)"
      ],
      "execution_count": 8,
      "outputs": [
        {
          "output_type": "execute_result",
          "data": {
            "text/plain": [
              "2680"
            ]
          },
          "metadata": {
            "tags": []
          },
          "execution_count": 8
        }
      ]
    },
    {
      "cell_type": "code",
      "metadata": {
        "colab": {
          "base_uri": "https://localhost:8080/"
        },
        "id": "kBr2QZjnaZ0U",
        "outputId": "3f29faae-8a13-46ba-874f-7fa7a6aab410"
      },
      "source": [
        "len(X_test)"
      ],
      "execution_count": 9,
      "outputs": [
        {
          "output_type": "execute_result",
          "data": {
            "text/plain": [
              "28"
            ]
          },
          "metadata": {
            "tags": []
          },
          "execution_count": 9
        }
      ]
    },
    {
      "cell_type": "markdown",
      "metadata": {
        "id": "29R_tQGIaoLN"
      },
      "source": [
        "Lưu X_train, X_test, Y_train và Y_test"
      ]
    },
    {
      "cell_type": "code",
      "metadata": {
        "id": "YwZx-u1wa4Fb"
      },
      "source": [
        "#train\n",
        "pickle_out = open(\"/content/drive/MyDrive/Colab Notebooks/X_train.pickle\", \"wb\")\n",
        "pickle.dump(X_train, pickle_out)\n",
        "pickle_out.close()\n",
        "\n",
        "pickle_out = open(\"/content/drive/MyDrive/Colab Notebooks/Y_train.pickle\", \"wb\")\n",
        "pickle.dump(Y_train, pickle_out)\n",
        "pickle_out.close()\n",
        "\n",
        "#test\n",
        "pickle_out = open(\"/content/drive/MyDrive/Colab Notebooks/X_test.pickle\", \"wb\")\n",
        "pickle.dump(X_test, pickle_out)\n",
        "pickle_out.close()\n",
        "\n",
        "pickle_out = open(\"/content/drive/MyDrive/Colab Notebooks/Y_test.pickle\", \"wb\")\n",
        "pickle.dump(Y_test, pickle_out)\n",
        "pickle_out.close()"
      ],
      "execution_count": 10,
      "outputs": []
    },
    {
      "cell_type": "markdown",
      "metadata": {
        "id": "YQrIaawqbSg7"
      },
      "source": [
        "Đọc các X Y train test mà ta đã lưu"
      ]
    },
    {
      "cell_type": "code",
      "metadata": {
        "id": "Q6EzYNcUbbVb"
      },
      "source": [
        "#train\n",
        "pickle_in = open(\"/content/drive/MyDrive/Colab Notebooks/X_train.pickle\", \"rb\")\n",
        "X_train = pickle.load(pickle_in)\n",
        "pickle_in.close()\n",
        "\n",
        "pickle_in = open(\"/content/drive/MyDrive/Colab Notebooks/Y_train.pickle\", \"rb\")\n",
        "Y_train = pickle.load(pickle_in)\n",
        "pickle_in.close()\n",
        "\n",
        "#test\n",
        "pickle_in = open(\"/content/drive/MyDrive/Colab Notebooks/X_test.pickle\", \"rb\")\n",
        "X_test = pickle.load(pickle_in)\n",
        "pickle_in.close()\n",
        "\n",
        "pickle_in = open(\"/content/drive/MyDrive/Colab Notebooks/Y_test.pickle\", \"rb\")\n",
        "Y_test = pickle.load(pickle_in)\n",
        "pickle_in.close()"
      ],
      "execution_count": 11,
      "outputs": []
    },
    {
      "cell_type": "markdown",
      "metadata": {
        "id": "Wscxpak2buJ8"
      },
      "source": [
        "Xây dựng model"
      ]
    },
    {
      "cell_type": "code",
      "metadata": {
        "id": "hs-ckmATiAF8"
      },
      "source": [
        "# load lại model cũ đã lưu\n",
        "#regressor = tf.keras.models.load_model('/content/drive/MyDrive/Colab Notebooks/LabRNN/bitcoin/my_model.h5')\n",
        "#regressor.summary()"
      ],
      "execution_count": null,
      "outputs": []
    },
    {
      "cell_type": "code",
      "metadata": {
        "id": "5jYn6RCz-dVf",
        "colab": {
          "base_uri": "https://localhost:8080/"
        },
        "outputId": "d63e17fe-a7f2-4e52-9b29-5a8706e2ee1c"
      },
      "source": [
        "regressor = Sequential()\n",
        "regressor.add(Bidirectional(LSTM(units=30, return_sequences=True, input_shape = (X_train.shape[1],1) ) ))\n",
        "\n",
        "regressor.add(LSTM(units= 30 , return_sequences=True))\n",
        "regressor.add(Dropout(0.2))\n",
        "\n",
        "regressor.add(LSTM(units= 30 , return_sequences=True))\n",
        "regressor.add(Dropout(0.2))\n",
        "\n",
        "regressor.add(LSTM(units= 30))\n",
        "regressor.add(Dropout(0.2))\n",
        "\n",
        "regressor.add(Dense(units = n_future, activation='linear'))\n",
        "\n",
        "regressor.compile(optimizer='adam', loss='mean_squared_error',metrics=['acc'])\n",
        "\n",
        "history = regressor.fit(X_train, Y_train, epochs=100, batch_size=32 )\n",
        "\n",
        "regressor.summary()"
      ],
      "execution_count": 12,
      "outputs": [
        {
          "output_type": "stream",
          "text": [
            "Epoch 1/100\n",
            "84/84 [==============================] - 13s 51ms/step - loss: 0.0078 - acc: 1.9366e-04\n",
            "Epoch 2/100\n",
            "84/84 [==============================] - 4s 53ms/step - loss: 0.0011 - acc: 7.3753e-04\n",
            "Epoch 3/100\n",
            "84/84 [==============================] - 4s 53ms/step - loss: 8.3922e-04 - acc: 1.4593e-04\n",
            "Epoch 4/100\n",
            "84/84 [==============================] - 5s 55ms/step - loss: 6.9713e-04 - acc: 3.1481e-05\n",
            "Epoch 5/100\n",
            "84/84 [==============================] - 4s 53ms/step - loss: 7.6626e-04 - acc: 3.6717e-04\n",
            "Epoch 6/100\n",
            "84/84 [==============================] - 5s 57ms/step - loss: 6.2432e-04 - acc: 3.0307e-04\n",
            "Epoch 7/100\n",
            "84/84 [==============================] - 5s 57ms/step - loss: 6.7644e-04 - acc: 2.0101e-04\n",
            "Epoch 8/100\n",
            "84/84 [==============================] - 5s 58ms/step - loss: 8.3043e-04 - acc: 1.1528e-04\n",
            "Epoch 9/100\n",
            "84/84 [==============================] - 5s 58ms/step - loss: 6.0535e-04 - acc: 8.9452e-04\n",
            "Epoch 10/100\n",
            "84/84 [==============================] - 5s 57ms/step - loss: 5.1562e-04 - acc: 8.4856e-04\n",
            "Epoch 11/100\n",
            "84/84 [==============================] - 5s 59ms/step - loss: 5.7917e-04 - acc: 5.5677e-05\n",
            "Epoch 12/100\n",
            "84/84 [==============================] - 5s 57ms/step - loss: 7.7047e-04 - acc: 1.7938e-04\n",
            "Epoch 13/100\n",
            "84/84 [==============================] - 5s 62ms/step - loss: 7.9253e-04 - acc: 1.2121e-04\n",
            "Epoch 14/100\n",
            "84/84 [==============================] - 5s 62ms/step - loss: 5.3241e-04 - acc: 4.0969e-05\n",
            "Epoch 15/100\n",
            "84/84 [==============================] - 5s 60ms/step - loss: 6.3437e-04 - acc: 2.0851e-04\n",
            "Epoch 16/100\n",
            "84/84 [==============================] - 5s 59ms/step - loss: 7.4746e-04 - acc: 5.6281e-04\n",
            "Epoch 17/100\n",
            "84/84 [==============================] - 5s 60ms/step - loss: 7.1339e-04 - acc: 7.0689e-04\n",
            "Epoch 18/100\n",
            "84/84 [==============================] - 5s 61ms/step - loss: 4.0571e-04 - acc: 0.0011\n",
            "Epoch 19/100\n",
            "84/84 [==============================] - 5s 58ms/step - loss: 7.2705e-04 - acc: 0.0018\n",
            "Epoch 20/100\n",
            "84/84 [==============================] - 5s 62ms/step - loss: 5.2099e-04 - acc: 2.8397e-04\n",
            "Epoch 21/100\n",
            "84/84 [==============================] - 5s 63ms/step - loss: 6.0072e-04 - acc: 1.7693e-05\n",
            "Epoch 22/100\n",
            "84/84 [==============================] - 5s 60ms/step - loss: 3.5343e-04 - acc: 1.6563e-04\n",
            "Epoch 23/100\n",
            "84/84 [==============================] - 5s 55ms/step - loss: 4.9535e-04 - acc: 2.9340e-04\n",
            "Epoch 24/100\n",
            "84/84 [==============================] - 5s 54ms/step - loss: 7.8075e-04 - acc: 1.5238e-04\n",
            "Epoch 25/100\n",
            "84/84 [==============================] - 5s 54ms/step - loss: 3.9943e-04 - acc: 8.4856e-04\n",
            "Epoch 26/100\n",
            "84/84 [==============================] - 5s 55ms/step - loss: 4.3566e-04 - acc: 5.0708e-05\n",
            "Epoch 27/100\n",
            "84/84 [==============================] - 5s 54ms/step - loss: 4.3570e-04 - acc: 9.8042e-05\n",
            "Epoch 28/100\n",
            "84/84 [==============================] - 5s 54ms/step - loss: 4.3746e-04 - acc: 5.5677e-05\n",
            "Epoch 29/100\n",
            "84/84 [==============================] - 5s 54ms/step - loss: 4.4240e-04 - acc: 1.5895e-04\n",
            "Epoch 30/100\n",
            "84/84 [==============================] - 5s 58ms/step - loss: 6.9998e-04 - acc: 5.6281e-04\n",
            "Epoch 31/100\n",
            "84/84 [==============================] - 5s 60ms/step - loss: 4.6963e-04 - acc: 4.5956e-04\n",
            "Epoch 32/100\n",
            "84/84 [==============================] - 5s 55ms/step - loss: 4.1163e-04 - acc: 2.5706e-04\n",
            "Epoch 33/100\n",
            "84/84 [==============================] - 5s 54ms/step - loss: 2.9697e-04 - acc: 6.0486e-04\n",
            "Epoch 34/100\n",
            "84/84 [==============================] - 4s 53ms/step - loss: 4.5113e-04 - acc: 0.0011\n",
            "Epoch 35/100\n",
            "84/84 [==============================] - 4s 52ms/step - loss: 5.7670e-04 - acc: 1.3209e-05\n",
            "Epoch 36/100\n",
            "84/84 [==============================] - 4s 53ms/step - loss: 5.5686e-04 - acc: 8.9452e-04\n",
            "Epoch 37/100\n",
            "84/84 [==============================] - 5s 54ms/step - loss: 4.2868e-04 - acc: 6.7861e-04\n",
            "Epoch 38/100\n",
            "84/84 [==============================] - 4s 52ms/step - loss: 5.4352e-04 - acc: 1.3336e-04\n",
            "Epoch 39/100\n",
            "84/84 [==============================] - 5s 61ms/step - loss: 4.2469e-04 - acc: 1.2121e-04\n",
            "Epoch 40/100\n",
            "84/84 [==============================] - 5s 63ms/step - loss: 4.8019e-04 - acc: 3.1481e-05\n",
            "Epoch 41/100\n",
            "84/84 [==============================] - 5s 62ms/step - loss: 5.3604e-04 - acc: 2.2231e-05\n",
            "Epoch 42/100\n",
            "84/84 [==============================] - 5s 64ms/step - loss: 3.5460e-04 - acc: 6.0713e-05\n",
            "Epoch 43/100\n",
            "84/84 [==============================] - 5s 63ms/step - loss: 3.5396e-04 - acc: 4.0969e-05\n",
            "Epoch 44/100\n",
            "84/84 [==============================] - 5s 63ms/step - loss: 5.4332e-04 - acc: 1.2723e-04\n",
            "Epoch 45/100\n",
            "84/84 [==============================] - 5s 63ms/step - loss: 3.6494e-04 - acc: 1.3336e-04\n",
            "Epoch 46/100\n",
            "84/84 [==============================] - 5s 58ms/step - loss: 3.4279e-04 - acc: 2.9340e-04\n",
            "Epoch 47/100\n",
            "84/84 [==============================] - 5s 64ms/step - loss: 4.5446e-04 - acc: 1.7693e-05\n",
            "Epoch 48/100\n",
            "84/84 [==============================] - 5s 60ms/step - loss: 5.0218e-04 - acc: 6.2784e-04\n",
            "Epoch 49/100\n",
            "84/84 [==============================] - 5s 55ms/step - loss: 5.1492e-04 - acc: 8.6984e-05\n",
            "Epoch 50/100\n",
            "84/84 [==============================] - 5s 63ms/step - loss: 3.0806e-04 - acc: 3.2322e-04\n",
            "Epoch 51/100\n",
            "84/84 [==============================] - 5s 64ms/step - loss: 4.4999e-04 - acc: 1.9366e-04\n",
            "Epoch 52/100\n",
            "84/84 [==============================] - 5s 63ms/step - loss: 5.4046e-04 - acc: 5.0708e-05\n",
            "Epoch 53/100\n",
            "84/84 [==============================] - 5s 61ms/step - loss: 3.8449e-04 - acc: 5.2508e-04\n",
            "Epoch 54/100\n",
            "84/84 [==============================] - 5s 61ms/step - loss: 4.3630e-04 - acc: 6.2784e-04\n",
            "Epoch 55/100\n",
            "84/84 [==============================] - 5s 61ms/step - loss: 4.2889e-04 - acc: 0.0015\n",
            "Epoch 56/100\n",
            "84/84 [==============================] - 5s 62ms/step - loss: 3.6510e-04 - acc: 3.7903e-04\n",
            "Epoch 57/100\n",
            "84/84 [==============================] - 5s 58ms/step - loss: 4.1014e-04 - acc: 2.8397e-04\n",
            "Epoch 58/100\n",
            "84/84 [==============================] - 5s 58ms/step - loss: 4.1233e-04 - acc: 2.6827e-05\n",
            "Epoch 59/100\n",
            "84/84 [==============================] - 5s 56ms/step - loss: 3.3884e-04 - acc: 2.3199e-04\n",
            "Epoch 60/100\n",
            "84/84 [==============================] - 5s 58ms/step - loss: 3.3480e-04 - acc: 0.0015\n",
            "Epoch 61/100\n",
            "84/84 [==============================] - 5s 59ms/step - loss: 3.0893e-04 - acc: 2.2399e-04\n",
            "Epoch 62/100\n",
            "84/84 [==============================] - 5s 63ms/step - loss: 4.0321e-04 - acc: 2.6827e-05\n",
            "Epoch 63/100\n",
            "84/84 [==============================] - 6s 69ms/step - loss: 3.1874e-04 - acc: 3.7903e-04\n",
            "Epoch 64/100\n",
            "84/84 [==============================] - 5s 63ms/step - loss: 3.4063e-04 - acc: 5.0757e-04\n",
            "Epoch 65/100\n",
            "84/84 [==============================] - 5s 62ms/step - loss: 3.5309e-04 - acc: 4.7487e-04\n",
            "Epoch 66/100\n",
            "84/84 [==============================] - 5s 63ms/step - loss: 3.2966e-04 - acc: 2.4851e-04\n",
            "Epoch 67/100\n",
            "84/84 [==============================] - 5s 59ms/step - loss: 3.0270e-04 - acc: 1.3336e-04\n",
            "Epoch 68/100\n",
            "84/84 [==============================] - 5s 54ms/step - loss: 3.2361e-04 - acc: 0.0018\n",
            "Epoch 69/100\n",
            "84/84 [==============================] - 5s 60ms/step - loss: 3.6499e-04 - acc: 5.2508e-04\n",
            "Epoch 70/100\n",
            "84/84 [==============================] - 5s 60ms/step - loss: 5.0155e-04 - acc: 4.0396e-04\n",
            "Epoch 71/100\n",
            "84/84 [==============================] - 5s 58ms/step - loss: 3.3084e-04 - acc: 9.4704e-04\n",
            "Epoch 72/100\n",
            "84/84 [==============================] - 5s 59ms/step - loss: 3.2551e-04 - acc: 5.4346e-04\n",
            "Epoch 73/100\n",
            "84/84 [==============================] - 5s 62ms/step - loss: 3.3664e-04 - acc: 7.3753e-04\n",
            "Epoch 74/100\n",
            "84/84 [==============================] - 5s 58ms/step - loss: 4.1949e-04 - acc: 1.1528e-04\n",
            "Epoch 75/100\n",
            "84/84 [==============================] - 5s 55ms/step - loss: 3.6096e-04 - acc: 2.2231e-05\n",
            "Epoch 76/100\n",
            "84/84 [==============================] - 5s 54ms/step - loss: 4.4963e-04 - acc: 1.5238e-04\n",
            "Epoch 77/100\n",
            "84/84 [==============================] - 5s 55ms/step - loss: 3.8622e-04 - acc: 3.6717e-04\n",
            "Epoch 78/100\n",
            "84/84 [==============================] - 5s 56ms/step - loss: 2.8143e-04 - acc: 3.3373e-04\n",
            "Epoch 79/100\n",
            "84/84 [==============================] - 5s 55ms/step - loss: 3.5073e-04 - acc: 2.8397e-04\n",
            "Epoch 80/100\n",
            "84/84 [==============================] - 5s 56ms/step - loss: 3.2567e-04 - acc: 4.5956e-04\n",
            "Epoch 81/100\n",
            "84/84 [==============================] - 5s 54ms/step - loss: 3.1432e-04 - acc: 6.5235e-04\n",
            "Epoch 82/100\n",
            "84/84 [==============================] - 5s 59ms/step - loss: 4.0530e-04 - acc: 8.9452e-04\n",
            "Epoch 83/100\n",
            "84/84 [==============================] - 5s 56ms/step - loss: 3.9659e-04 - acc: 1.3336e-04\n",
            "Epoch 84/100\n",
            "84/84 [==============================] - 4s 52ms/step - loss: 3.4745e-04 - acc: 1.2121e-04\n",
            "Epoch 85/100\n",
            "84/84 [==============================] - 5s 54ms/step - loss: 3.1840e-04 - acc: 3.1481e-05\n",
            "Epoch 86/100\n",
            "84/84 [==============================] - 4s 53ms/step - loss: 3.4629e-04 - acc: 6.0713e-05\n",
            "Epoch 87/100\n",
            "84/84 [==============================] - 4s 52ms/step - loss: 3.7443e-04 - acc: 4.7487e-04\n",
            "Epoch 88/100\n",
            "84/84 [==============================] - 5s 54ms/step - loss: 3.7739e-04 - acc: 2.4851e-04\n",
            "Epoch 89/100\n",
            "84/84 [==============================] - 5s 54ms/step - loss: 3.6351e-04 - acc: 7.6249e-05\n",
            "Epoch 90/100\n",
            "84/84 [==============================] - 5s 56ms/step - loss: 3.9081e-04 - acc: 2.1617e-04\n",
            "Epoch 91/100\n",
            "84/84 [==============================] - 5s 57ms/step - loss: 5.3038e-04 - acc: 1.2723e-04\n",
            "Epoch 92/100\n",
            "84/84 [==============================] - 5s 60ms/step - loss: 3.7887e-04 - acc: 2.0851e-04\n",
            "Epoch 93/100\n",
            "84/84 [==============================] - 5s 56ms/step - loss: 4.9931e-04 - acc: 7.6249e-05\n",
            "Epoch 94/100\n",
            "84/84 [==============================] - 5s 59ms/step - loss: 3.7829e-04 - acc: 2.2399e-04\n",
            "Epoch 95/100\n",
            "84/84 [==============================] - 5s 59ms/step - loss: 3.6043e-04 - acc: 2.6827e-05\n",
            "Epoch 96/100\n",
            "84/84 [==============================] - 5s 56ms/step - loss: 5.0995e-04 - acc: 2.0851e-04\n",
            "Epoch 97/100\n",
            "84/84 [==============================] - 5s 56ms/step - loss: 7.4052e-04 - acc: 6.0486e-04\n",
            "Epoch 98/100\n",
            "84/84 [==============================] - 5s 57ms/step - loss: 3.6494e-04 - acc: 2.4016e-04\n",
            "Epoch 99/100\n",
            "84/84 [==============================] - 5s 60ms/step - loss: 3.0409e-04 - acc: 8.4856e-04\n",
            "Epoch 100/100\n",
            "84/84 [==============================] - 5s 60ms/step - loss: 3.0859e-04 - acc: 8.4856e-04\n",
            "Model: \"sequential\"\n",
            "_________________________________________________________________\n",
            "Layer (type)                 Output Shape              Param #   \n",
            "=================================================================\n",
            "bidirectional (Bidirectional (None, 30, 60)            7680      \n",
            "_________________________________________________________________\n",
            "lstm_1 (LSTM)                (None, 30, 30)            10920     \n",
            "_________________________________________________________________\n",
            "dropout (Dropout)            (None, 30, 30)            0         \n",
            "_________________________________________________________________\n",
            "lstm_2 (LSTM)                (None, 30, 30)            7320      \n",
            "_________________________________________________________________\n",
            "dropout_1 (Dropout)          (None, 30, 30)            0         \n",
            "_________________________________________________________________\n",
            "lstm_3 (LSTM)                (None, 30)                7320      \n",
            "_________________________________________________________________\n",
            "dropout_2 (Dropout)          (None, 30)                0         \n",
            "_________________________________________________________________\n",
            "dense (Dense)                (None, 1)                 31        \n",
            "=================================================================\n",
            "Total params: 33,271\n",
            "Trainable params: 33,271\n",
            "Non-trainable params: 0\n",
            "_________________________________________________________________\n"
          ],
          "name": "stdout"
        }
      ]
    },
    {
      "cell_type": "markdown",
      "metadata": {
        "id": "tP0JWFsAhtl4"
      },
      "source": [
        "Lưu lại model"
      ]
    },
    {
      "cell_type": "code",
      "metadata": {
        "id": "LC1fi47ahwIb"
      },
      "source": [
        "!mkdir -p saved_model\n",
        "regressor.save('/content/drive/MyDrive/Colab Notebooks/Bitcoin_model.h5')"
      ],
      "execution_count": 13,
      "outputs": []
    },
    {
      "cell_type": "markdown",
      "metadata": {
        "id": "njeSLdeoiRT5"
      },
      "source": [
        "Đánh giá mô hình"
      ]
    },
    {
      "cell_type": "code",
      "metadata": {
        "colab": {
          "base_uri": "https://localhost:8080/",
          "height": 573
        },
        "id": "gBdCDpOJhtRC",
        "outputId": "0585e029-a2e8-4ad3-a5ae-53c411e5fa72"
      },
      "source": [
        "# list all data in history\n",
        "#print(history.history.keys())\n",
        "#print(model.metrics_names)\n",
        "# summarize history for accuracy\n",
        "plt.plot(history.history['acc'])\n",
        "plt.title('model accuracy')\n",
        "plt.ylabel('accuracy')\n",
        "plt.xlabel('epoch')\n",
        "plt.legend(['train', 'test'], loc='upper left')\n",
        "plt.show()\n",
        "# summarize history for loss\n",
        "plt.plot(history.history['loss'])\n",
        "plt.title('model loss')\n",
        "plt.ylabel('loss')\n",
        "plt.xlabel('epoch')\n",
        "plt.legend(['train', 'test'], loc='upper left')\n",
        "plt.show()"
      ],
      "execution_count": 14,
      "outputs": [
        {
          "output_type": "display_data",
          "data": {
            "image/png": "[encoded data removed]",
            "text/plain": [
              "<Figure size 432x288 with 1 Axes>"
            ]
          },
          "metadata": {
            "tags": [],
            "needs_background": "light"
          }
        },
        {
          "output_type": "display_data",
          "data": {
            "image/png": "[encoded data removed]",
            "text/plain": [
              "<Figure size 432x288 with 1 Axes>"
            ]
          },
          "metadata": {
            "tags": [],
            "needs_background": "light"
          }
        }
      ]
    },
    {
      "cell_type": "markdown",
      "metadata": {
        "id": "D6H1Z5N-ikwu"
      },
      "source": [
        "Đánh giá bằng tập test. \n",
        "Trực quan kết quả"
      ]
    },
    {
      "cell_type": "code",
      "metadata": {
        "colab": {
          "base_uri": "https://localhost:8080/",
          "height": 1000
        },
        "id": "Aks_QinrirHY",
        "outputId": "c4e334dd-99f4-4f5b-ff26-d00db8624844"
      },
      "source": [
        "predict = regressor.predict(X_test)\n",
        "\n",
        "plt.plot(sc.inverse_transform(Y_test), color = 'red', label = 'Real Closing Price')\n",
        "plt.plot(sc.inverse_transform(predict), color = 'blue', label = 'Predicted Closing Price')\n",
        "plt.title('Closing Price Bitcoin Prediction')\n",
        "plt.xlabel('Time')\n",
        "plt.ylabel('Price')\n",
        "plt.legend()\n",
        "plt.show()\n",
        "\n",
        "plt.plot(sc.inverse_transform(Y_test[1:15]), color = 'red', label = 'Real Closing Price')\n",
        "plt.plot(sc.inverse_transform(predict[1:15]), color = 'blue', label = 'Predicted Closing Price')\n",
        "plt.title('Closing Price Bitcoin Prediction')\n",
        "plt.xlabel('Time')\n",
        "plt.ylabel('Price')\n",
        "plt.legend()\n",
        "print(sc.inverse_transform(Y_test[1:15]))\n",
        "print(sc.inverse_transform(predict[1:15]))\n",
        "plt.show()"
      ],
      "execution_count": null,
      "outputs": [
        {
          "output_type": "display_data",
          "data": {
            "image/png": "[encoded data removed]",
            "text/plain": [
              "<Figure size 432x288 with 1 Axes>"
            ]
          },
          "metadata": {
            "tags": [],
            "needs_background": "light"
          }
        },
        {
          "output_type": "stream",
          "text": [
            "[[  353.6325    ]\n",
            " [12399.11188466]\n",
            " [  574.5825    ]\n",
            " [  223.69459   ]\n",
            " [  244.6989    ]\n",
            " [ 8254.27734834]\n",
            " [  499.24998   ]\n",
            " [ 5276.55898233]\n",
            " [  486.80845   ]\n",
            " [  283.7507    ]\n",
            " [  265.0825    ]\n",
            " [ 9126.63682222]\n",
            " [  366.788     ]\n",
            " [  378.675     ]]\n",
            "[[ 1085.4197 ]\n",
            " [12097.364  ]\n",
            " [ 1280.5569 ]\n",
            " [  943.23706]\n",
            " [  954.42993]\n",
            " [ 8492.191  ]\n",
            " [ 1253.8546 ]\n",
            " [ 5607.6777 ]\n",
            " [ 1239.4718 ]\n",
            " [ 1003.8784 ]\n",
            " [  991.21643]\n",
            " [ 9199.633  ]\n",
            " [ 1078.1887 ]\n",
            " [ 1099.6953 ]]\n"
          ],
          "name": "stdout"
        },
        {
          "output_type": "display_data",
          "data": {
            "image/png": "[encoded data removed]",
            "text/plain": [
              "<Figure size 432x288 with 1 Axes>"
            ]
          },
          "metadata": {
            "tags": [],
            "needs_background": "light"
          }
        }
      ]
    }
  ]
}